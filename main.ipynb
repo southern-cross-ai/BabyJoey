{
 "cells": [
  {
   "cell_type": "code",
   "execution_count": 1,
   "metadata": {},
   "outputs": [
    {
     "name": "stdout",
     "output_type": "stream",
     "text": [
      "test\n"
     ]
    }
   ],
   "source": [
    "print(\"test\")"
   ]
  },
  {
   "cell_type": "code",
   "execution_count": 1,
   "metadata": {},
   "outputs": [
    {
     "name": "stderr",
     "output_type": "stream",
     "text": [
      "/home/matty/BabyJoey/.venv/lib/python3.12/site-packages/tqdm/auto.py:21: TqdmWarning: IProgress not found. Please update jupyter and ipywidgets. See https://ipywidgets.readthedocs.io/en/stable/user_install.html\n",
      "  from .autonotebook import tqdm as notebook_tqdm\n"
     ]
    }
   ],
   "source": [
    "import os\n",
    "from huggingface_hub import login\n",
    "from datasets import load_dataset\n",
    "import tiktoken"
   ]
  },
  {
   "cell_type": "code",
   "execution_count": 2,
   "metadata": {},
   "outputs": [
    {
     "name": "stdout",
     "output_type": "stream",
     "text": [
      "The token has not been saved to the git credentials helper. Pass `add_to_git_credential=True` in this function directly or `--add-to-git-credential` if using via `huggingface-cli` if you want to set the git credential as well.\n",
      "Token is valid (permission: write).\n",
      "Your token has been saved to /home/matty/.cache/huggingface/token\n",
      "Login successful\n"
     ]
    }
   ],
   "source": [
    "hf_token = os.getenv(\"HF_TOKEN\")\n",
    "if hf_token:\n",
    "    login(hf_token)\n",
    "else:\n",
    "    raise ValueError(\"Hugging Face token not set.\")"
   ]
  },
  {
   "cell_type": "code",
   "execution_count": 16,
   "metadata": {},
   "outputs": [],
   "source": [
    "# Load the dataset\n",
    "dataset = load_dataset(\"SouthernCrossAI/Project_Gutenberg_Australia\")"
   ]
  },
  {
   "cell_type": "code",
   "execution_count": 17,
   "metadata": {},
   "outputs": [
    {
     "data": {
      "text/plain": [
       "DatasetDict({\n",
       "    train: Dataset({\n",
       "        features: ['Paragraph Text', 'cl100k_base'],\n",
       "        num_rows: 286370\n",
       "    })\n",
       "    validation: Dataset({\n",
       "        features: ['Paragraph Text', 'cl100k_base'],\n",
       "        num_rows: 53694\n",
       "    })\n",
       "    test: Dataset({\n",
       "        features: ['Paragraph Text', 'cl100k_base'],\n",
       "        num_rows: 17899\n",
       "    })\n",
       "})"
      ]
     },
     "execution_count": 17,
     "metadata": {},
     "output_type": "execute_result"
    }
   ],
   "source": [
    "dataset"
   ]
  },
  {
   "cell_type": "code",
   "execution_count": 4,
   "metadata": {},
   "outputs": [
    {
     "name": "stdout",
     "output_type": "stream",
     "text": [
      "Number of sequences: 286370\n"
     ]
    }
   ],
   "source": [
    "cl100k_base_column = dataset[\"train\"][\"cl100k_base\"]  # Adjust split if needed\n",
    "print(f\"Number of sequences: {len(cl100k_base_column)}\")"
   ]
  },
  {
   "cell_type": "code",
   "execution_count": 5,
   "metadata": {},
   "outputs": [
    {
     "name": "stdout",
     "output_type": "stream",
     "text": [
      "Total tokens: 62804547\n"
     ]
    }
   ],
   "source": [
    "# Flatten the tokens\n",
    "all_tokens = [token for sequence in cl100k_base_column for token in sequence]\n",
    "print(f\"Total tokens: {len(all_tokens)}\")"
   ]
  },
  {
   "cell_type": "code",
   "execution_count": 6,
   "metadata": {},
   "outputs": [
    {
     "name": "stdout",
     "output_type": "stream",
     "text": [
      "Number of overlapping chunks: 245329\n",
      "Example chunk: [46639, 526, 433, 682, 1359, 1099, 26902, 23750, 3258, 11, 330, 2465, 15369, 5084, 311, 617, 83410, 757, 13, 1115, 4131, 315, 3515, 264, 3361, 49837, 369, 264, 5333, 13, 358, 1176, 65047, 28883, 264, 11102, 13272, 11, 1243, 74537, 11, 323, 1457, 31685, 2011, 6445, 264, 30077, 26, 323, 3686, 17354, 358, 2733, 439, 3582, 358, 1436, 6140, 264, 2763, 315, 3958, 15369, 369, 279, 25491, 315, 423, 34364, 14637, 5721, 13, 358, 649, 956, 1781, 1268, 433, 374, 279, 3828, 61191, 757, 779, 13, 358, 5895, 994, 358, 4985, 1518, 1077, 1578, 30, 2030, 1070, 596, 279, 3070, 11, 323, 279, 7126, 13, 3092, 39526, 0, 433, 1053, 387, 279, 38736, 596, 1866, 15369, 311, 617, 311, 1650, 26757, 14637, 5721, 364, 23881, 3502, 31412, 3238, 358, 8434, 956, 656, 433, 369, 279, 72021, 6548, 11, 477, 10437, 478, 23726, 11, 477, 294, 1673, 13744, 4579, 11, 477, 8369, 478, 4851, 430, 3596, 574, 13, 2360, 11, 28146, 11, 1070, 596, 912, 32961, 26, 279, 17983, 6420, 315, 279, 7126, 1053, 25760, 279, 5030, 13, 358, 1436, 539, 1781, 315, 433, 13, 358, 2643, 422, 568, 1051, 5710, 1210, 7189, 3358, 3371, 499, 1148, 596, 304, 856, 4059, 11, 2999, 13, 37958, 1359, 1071, 39475, 441, 30666, 13, 330, 2181, 596, 304, 856, 4059, 430, 499, 2351, 4737, 279, 3754, 358, 3077, 7263, 499, 304, 5115, 279, 5076, 1648, 13, 1472, 2351, 264, 4333, 315, 4491, 13, 2493, 91361, 596, 313, 40, 3358, 1650, 1461, 11291, 1606, 358, 617, 279, 34662, 311, 387, 264, 4333, 315, 813, 2288, 13, 1628, 499, 9167, 956, 55841, 313, 285, 430, 279, 6593, 4751, 30, 264, 5505, 832, 313, 327, 33839, 439, 358, 1288, 617, 3685, 13, 358, 3077, 2586, 323, 3309, 499, 430, 2500, 82407, 315, 813, 706, 1027, 32485, 13, 358, 3077, 439, 1695, 439, 3309, 499, 430, 11291, 596, 16066, 505, 279, 6372, 315, 264, 5623, 26, 323, 358, 9167, 956, 14000, 430, 499, 2351, 23268, 922, 420, 11, 323, 358, 9167, 956, 6755, 499, 2019, 499, 4265, 1093, 311, 733, 7833, 3201, 311, 1405, 11291, 374, 323, 656, 1148, 499, 649, 369, 1461, 13, 1628, 430, 596, 7041, 1148, 358, 1288, 617, 3685, 499, 311, 656, 11, 2999, 13, 37958, 11, 323, 499, 9167, 956, 2884, 433, 13, 2052, 279, 892, 358, 3077, 1027, 1618, 499, 3077, 1027, 29269, 6261, 313, 69849, 1148, 30, 3277, 358, 1511, 279, 3492, 364, 277, 4014, 6, 499, 7154, 29368, 313, 35734, 30, 3639, 617, 499, 311, 8850, 30, 358, 2846, 7556, 311, 499, 1457, 439, 893, 311, 893, 11, 2085, 28823, 1210, 39, 1411, 574, 832, 315, 1884, 3026, 8884, 6603, 4661, 16280, 51085, 323, 42276, 11, 1093, 26872, 449, 18012, 477, 5684, 82356, 13, 220, 1102, 574, 912, 39030, 367, 311, 2019, 568, 574, 5655, 304, 264, 2363, 439, 459, 304, 936, 332, 1245, 86294, 2643, 387, 5655, 304, 264, 67172, 477, 1063, 15234, 893, 5773, 1113, 6136, 315, 279, 21965, 1233, 26, 1193, 430, 279, 86294, 574, 33297, 1534, 323, 1550, 539, 1524, 14993, 13, 1283, 1053, 4498, 15187, 21737, 304]\n"
     ]
    }
   ],
   "source": [
    "# Define chunk size and overlap (stride)\n",
    "context_window = 512\n",
    "stride = 256\n",
    "\n",
    "# Create overlapping chunks\n",
    "chunks = [\n",
    "    all_tokens[i:i + context_window]\n",
    "    for i in range(0, len(all_tokens) - context_window + 1, stride)\n",
    "]\n",
    "\n",
    "print(f\"Number of overlapping chunks: {len(chunks)}\")\n",
    "print(f\"Example chunk: {chunks[0]}\")\n"
   ]
  },
  {
   "cell_type": "code",
   "execution_count": 13,
   "metadata": {},
   "outputs": [
    {
     "name": "stdout",
     "output_type": "stream",
     "text": [
      "Input tensor shape: torch.Size([245329, 512])\n"
     ]
    }
   ],
   "source": [
    "# Convert chunks to a tensor\n",
    "input_tensor = torch.tensor(chunks, dtype=torch.long)\n",
    "print(f\"Input tensor shape: {input_tensor.shape}\")"
   ]
  },
  {
   "cell_type": "code",
   "execution_count": 14,
   "metadata": {},
   "outputs": [
    {
     "name": "stdout",
     "output_type": "stream",
     "text": [
      "Batch shape: torch.Size([32, 512])\n"
     ]
    }
   ],
   "source": [
    "from torch.utils.data import TensorDataset, DataLoader\n",
    "\n",
    "# Define the batch size\n",
    "batch_size = 32\n",
    "\n",
    "# Create a TensorDataset and DataLoader\n",
    "dataset = TensorDataset(input_tensor)\n",
    "dataloader = DataLoader(dataset, batch_size=batch_size, shuffle=True)\n",
    "\n",
    "# Inspect the DataLoader\n",
    "for batch in dataloader:\n",
    "    print(f\"Batch shape: {batch[0].shape}\")  # Should print [batch_size, context_window]\n",
    "    break  # Display one batch\n"
   ]
  },
  {
   "cell_type": "code",
   "execution_count": 15,
   "metadata": {},
   "outputs": [
    {
     "name": "stdout",
     "output_type": "stream",
     "text": [
      "Batch 1:\n",
      "tensor([[ 2884,  1690,   264,  ...,   555,   279,  8013],\n",
      "        [  430,  1364,   574,  ..., 18098,  4613,    13],\n",
      "        [  315,   279,  6134,  ..., 22225,   539,   617],\n",
      "        ...,\n",
      "        [ 8036,   323, 44278,  ..., 13463,    13,  1628],\n",
      "        [   11, 94370,   311,  ...,   311,   279,  7173],\n",
      "        [ 5425, 22327,   315,  ...,   315,   279, 15429]])\n",
      "Batch 2:\n",
      "tensor([[   11,  1606,   279,  ...,   355,    11, 20355],\n",
      "        [  304,   813, 79340,  ...,   304,   813,  6548],\n",
      "        [ 2170, 14733,   439,  ...,   315,  7878,  3805],\n",
      "        ...,\n",
      "        [65657,  1139,   813,  ...,   323,   649,  2646],\n",
      "        [ 1047,  1027,  1766,  ...,   791, 68457,  2965],\n",
      "        [   13,  6187,  4238,  ..., 21483,  5304,   279]])\n",
      "Batch 3:\n",
      "tensor([[16914,   279, 23709,  ...,  5811,   439,   311],\n",
      "        [ 1518,   433,   682,  ...,    11, 38067,   922],\n",
      "        [71015, 12678,  9621,  ...,  1866, 11401,    11],\n",
      "        ...,\n",
      "        [  477,  9660,   315,  ..., 12092, 11977,    11],\n",
      "        [10269,  1948,   315,  ...,  9964,   728,   315],\n",
      "        [ 1077, 15320, 71490,  ...,  1027, 32126,   555]])\n"
     ]
    }
   ],
   "source": [
    "# Iterate through the DataLoader\n",
    "for i, batch in enumerate(dataloader):\n",
    "    print(f\"Batch {i+1}:\")\n",
    "    print(batch[0])  # Display the batch\n",
    "    if i == 2:  # Show only the first 3 batches\n",
    "        break\n"
   ]
  },
  {
   "cell_type": "code",
   "execution_count": null,
   "metadata": {},
   "outputs": [],
   "source": []
  },
  {
   "cell_type": "code",
   "execution_count": null,
   "metadata": {},
   "outputs": [],
   "source": []
  },
  {
   "cell_type": "code",
   "execution_count": null,
   "metadata": {},
   "outputs": [],
   "source": []
  },
  {
   "cell_type": "code",
   "execution_count": null,
   "metadata": {},
   "outputs": [],
   "source": []
  },
  {
   "cell_type": "code",
   "execution_count": 11,
   "metadata": {},
   "outputs": [
    {
     "name": "stdout",
     "output_type": "stream",
     "text": [
      "Decoded Text:\n",
      " I knew him he had been permanently settled there for about fourteen years, during which time he had enjoyed the most perfect health.Talking of statues, there is often, from one point of view, an unforeseen effect which is not possible in pictures--a point of a cocked hat, for instance, which suggests a beak, or a rapier sticking out behind, and giving the figure a tail. There is in the statue of Lord Nelson, on a tall column in Trafalgar Square, an effect which is greatly admired by the Americans who patronize Morley's Hotel on the Strand side of the Square. There is a similar--or even more so--effect in the statue of Captain Cook in Sydney, seen from one point of view. It's strange that these things are never foreseen. The sculptors must have had a rough time amongst their friends.\"Well, Phoebe, as I told you before, you can't expect to pick and choose; and if you want to be a favourite you ought to be civil to everybody. Now, Charlie Baker will speak against you and give you a bad name, and you don't know what influence his word may have. There are his cousins, the young Moores; you like them, they're nice looking young fellows, and Mrs Moore's brothers--in time, you know, if people spoke well of you, said what a nice sort of girl that is, they would come along and talk to you and find you really could talk, and then--\"Her first impulse was to go straight to Richard. But she had not covered half a dozen yards before she saw that this would never do. At the best of times Richard abominated gossip; and the fact of it having, in the present case, dared to fasten its fangs in some one belonging to him would make him doubly wroth. He might even try to find out who had started the talk; and get himself into hot water over it. Or he might want to lay all the blame on his own shoulders--make himself the reproaches Ned's Polly had not spared him. Worse still, he would perhaps accuse Purdy of inconsiderateness towards her, and fly into a rage with him; and then the two of them would quarrel, which would be a thousand pities. For though he often railed at Purdy, yet that was only Richard's way: he was genuinely fond of him, and unbent to him as to nobody else.Neville and\n"
     ]
    }
   ],
   "source": [
    "import tiktoken\n",
    "tokenizer = tiktoken.get_encoding(\"cl100k_base\")\n",
    "\n",
    "# Decode the tokens\n",
    "decoded_text = tokenizer.decode(chunks[2000])\n",
    "print(\"Decoded Text:\")\n",
    "print(decoded_text)"
   ]
  },
  {
   "cell_type": "code",
   "execution_count": 18,
   "metadata": {},
   "outputs": [
    {
     "name": "stdout",
     "output_type": "stream",
     "text": [
      "The token has not been saved to the git credentials helper. Pass `add_to_git_credential=True` in this function directly or `--add-to-git-credential` if using via `huggingface-cli` if you want to set the git credential as well.\n",
      "Token is valid (permission: write).\n",
      "Your token has been saved to /home/matty/.cache/huggingface/token\n",
      "Login successful\n",
      "Number of sequences in train: 286370\n",
      "Total tokens in train: 62804547\n",
      "Number of overlapping chunks in train: 245329\n",
      "Number of sequences in validation: 53694\n",
      "Total tokens in validation: 11709666\n",
      "Number of overlapping chunks in validation: 45739\n",
      "Training DataLoader:\n",
      "Batch shape: torch.Size([32, 512])\n",
      "Validation DataLoader:\n",
      "Batch shape: torch.Size([32, 512])\n"
     ]
    }
   ],
   "source": [
    "import os\n",
    "from huggingface_hub import login\n",
    "from datasets import load_dataset\n",
    "import torch\n",
    "from torch.utils.data import TensorDataset, DataLoader\n",
    "\n",
    "# Login to Hugging Face Hub\n",
    "hf_token = os.getenv(\"HF_TOKEN\")\n",
    "if hf_token:\n",
    "    login(hf_token)\n",
    "else:\n",
    "    raise ValueError(\"Hugging Face token not set.\")\n",
    "\n",
    "# Load the dataset\n",
    "dataset = load_dataset(\"SouthernCrossAI/Project_Gutenberg_Australia\")\n",
    "\n",
    "# Helper function to process a split and create chunks\n",
    "def process_split(split, context_window=512, stride=256):\n",
    "    # Extract the 'cl100k_base' column\n",
    "    cl100k_base_column = dataset[split][\"cl100k_base\"]\n",
    "    print(f\"Number of sequences in {split}: {len(cl100k_base_column)}\")\n",
    "    \n",
    "    # Flatten the tokens\n",
    "    all_tokens = [token for sequence in cl100k_base_column for token in sequence]\n",
    "    print(f\"Total tokens in {split}: {len(all_tokens)}\")\n",
    "    \n",
    "    # Create overlapping chunks\n",
    "    chunks = [\n",
    "        all_tokens[i:i + context_window]\n",
    "        for i in range(0, len(all_tokens) - context_window + 1, stride)\n",
    "    ]\n",
    "    print(f\"Number of overlapping chunks in {split}: {len(chunks)}\")\n",
    "    return torch.tensor(chunks, dtype=torch.long)\n",
    "\n",
    "# Process training and validation splits\n",
    "context_window = 512\n",
    "stride = 256\n",
    "train_tensor = process_split(\"train\", context_window, stride)\n",
    "val_tensor = process_split(\"validation\", context_window, stride)\n",
    "\n",
    "# Create TensorDatasets\n",
    "train_dataset = TensorDataset(train_tensor)\n",
    "val_dataset = TensorDataset(val_tensor)\n",
    "\n",
    "# Create DataLoaders\n",
    "batch_size = 32\n",
    "train_loader = DataLoader(train_dataset, batch_size=batch_size, shuffle=True)\n",
    "val_loader = DataLoader(val_dataset, batch_size=batch_size, shuffle=False)\n",
    "\n",
    "# Inspect the DataLoaders\n",
    "print(\"Training DataLoader:\")\n",
    "for batch in train_loader:\n",
    "    print(f\"Batch shape: {batch[0].shape}\")  # Should print [batch_size, context_window]\n",
    "    break\n",
    "\n",
    "print(\"Validation DataLoader:\")\n",
    "for batch in val_loader:\n",
    "    print(f\"Batch shape: {batch[0].shape}\")  # Should print [batch_size, context_window]\n",
    "    break\n"
   ]
  },
  {
   "cell_type": "code",
   "execution_count": 29,
   "metadata": {},
   "outputs": [],
   "source": [
    "sample = next(iter(val_loader))"
   ]
  },
  {
   "cell_type": "code",
   "execution_count": 41,
   "metadata": {},
   "outputs": [
    {
     "name": "stdout",
     "output_type": "stream",
     "text": [
      "[22336, 527, 1457, 73734, 449, 279, 7095, 358, 1053, 33330, 5304, 499, 25, 47177, 311, 757, 11, 8613, 78, 11, 430, 499, 690, 1304, 420, 16540, 369, 757, 311, 3842, 423, 6172, 323, 311, 912, 1023, 3823, 1694, 0, 220, 4593, 686, 433, 555, 279, 3021, 499, 3131, 1071, 499, 39786, 757, 9135, 220, 3005, 65330, 1203, 39019, 323, 79578, 856, 2077, 13, 1789, 264, 4545, 358, 76035, 539, 7095, 7182, 311, 6604, 11, 3686, 2555, 2011, 387, 1071, 13, 220, 1666, 358, 10555, 1077, 3242, 266, 1873, 358, 20592, 25, 330, 43, 6863, 11, 499, 617, 30831, 264, 2294, 4785, 505, 856, 4851, 323, 9277, 264, 32415, 832, 5304, 433, 13, 1789, 47530, 757, 430, 358, 617, 3596, 93762, 499, 13, 220, 7570, 439, 499, 617, 1027, 837, 311, 6261, 11, 358, 47177, 555, 279, 3021, 358, 2103, 11984, 499, 311, 6493, 701, 1984, 311, 423, 6172, 43059, 581, 323, 311, 912, 1023, 3823, 1694, 13, 220, 358, 4985, 5379, 701, 4339, 520, 3131, 311, 4477, 430, 4400, 1253, 387, 5675, 1555, 279, 8060, 315, 856, 5044, 1210, 1687, 12570, 304, 8753, 11, 369, 358, 1047, 11352, 430, 420, 574, 1077, 19214, 8982, 13, 220, 2684, 574, 912, 12225, 15619, 519, 311, 3868, 389, 603, 11, 323, 279, 6301, 42832, 1051, 2744, 922, 11, 779, 433, 574, 1664, 311, 617, 264, 25466, 814, 1550, 539, 58389, 13, 578, 17240, 574, 49804, 323, 12703, 13, 220, 3277, 358, 304, 3004, 8430, 398, 439, 311, 279, 4689, 3044, 315, 1077, 7126, 596, 2890, 1364, 1370, 4588, 279, 3488, 11, 323, 994, 358, 9076, 856, 3600, 1364, 43903, 21632, 856, 4339, 13, 220, 1102, 574, 304, 8206, 264, 656, 273, 1285, 15496, 11, 1418, 279, 54434, 35218, 483, 7731, 1093, 264, 42822, 20612, 37874, 1139, 62562, 13, 220, 358, 12570, 315, 9635, 323, 315, 1077, 4885, 11, 315, 12366, 323, 25187, 87455, 11, 315, 7671, 62799, 1405, 1364, 1047, 7543, 1063, 1667, 11, 323, 315, 279, 36483, 315, 48606, 11, 902, 1364, 6646, 1077, 2162, 13, 220, 2030, 433, 574, 1093, 7556, 311, 264, 308, 15278, 727, 6134, 13, 220, 358, 2751, 4400, 719, 330, 2181, 374, 13118, 837, 11, 28146, 1359, 477, 330, 5519, 499, 2019, 779, 11, 28146, 9135, 220, 12222, 856, 4907, 6137, 311, 19868, 13, 220, 84276, 26617, 856, 44776, 11, 323, 11, 439, 1364, 16392, 11, 87651, 3149, 459, 41258, 13, 220, 330, 3617, 352, 44491, 856, 54716, 11, 719, 358, 1097, 8009, 2883, 994, 856, 7126, 374, 5986, 13, 220, 358, 617, 264, 46337, 4059, 11, 6847, 60178, 13, 220, 99173, 11, 308, 352, 9135, 1364, 4024, 389, 994, 358, 1578, 9076, 1520, 11, 330, 1820, 17563, 374, 90203, 2785, 13, 1102, 690, 1522, 1022, 555, 311, 1474, 7924, 11, 477, 520, 279, 5652, 279, 1828, 1938, 13, 220, 8442, 358, 1047, 7111, 4741, 311, 1063, 14553, 520, 16376, 34382, 5169, 11, 323, 279, 11471, 374, 1689, 1142, 1210, 55005, 0, 656, 539, 2019, 779, 1359, 20592, 813, 289, 62837, 2748, 13, 330, 2181, 374, 2646, 2288, 3389, 13, 358, 1440, 499, 527, 304, 24150, 13944, 596, 2410]\n"
     ]
    }
   ],
   "source": [
    "print(sample[0].tolist()[0])"
   ]
  },
  {
   "cell_type": "code",
   "execution_count": 40,
   "metadata": {},
   "outputs": [
    {
     "name": "stdout",
     "output_type": "stream",
     "text": [
      "Decoded Text 1:\n",
      "\"You are now acquainted with the trust I would impose upon you: swear to me, Moro, that you will make this explanation for me to John Darrow and to no other human being!  Swear it by the love you once said you bore me!\"  She sank back exhausted and awaited my response. For a moment I dared not trust myself to speak, yet something must be said.  As I noted her impatience I replied: \"Lona, you have lifted a great weight from my heart and placed a lesser one upon it. Forgive me that I have ever doubted you.  Even as you have been true to yourself, I swear by the love I still bear you to deliver your message to Darrow Sahib and to no other human being.  I shall commit your words at once to writing that nothing may be lost through the failure of my memory.\"We spoke in French, for I had discovered that this was her favourite speech.  There was no Oliphant to wait on us, and the inn servants were always about, so it was well to have a tongue they did not comprehend. The lady was distracted and sad.  When I inquired feelingly as to the general condition of her father's health she parried the question, and when I offered my services she disregarded my words.  It was in truth a doleful meal, while the faded Cristine sat like a sphinx staring into vacancy.  I spoke of England and of her friends, of Paris and Versailles, of Avignon where she had spent some years, and of the amenities of Florence, which she considered her home.  But it was like talking to a nunnery door.  I got nothing but \"It is indeed true, sir,\" or \"Do you say so, sir!\"  till my energy began to sink.  Madame perceived my discomfort, and, as she rose, murmured an apology.  \"Pray forgive my distraction, but I am poor company when my father is ill.  I have a foolish mind, easily frightened.  Nay, nay!\" she went on when I again offered help, \"the illness is trifling. It will pass off by to-morrow, or at the latest the next day.  Only I had looked forward to some ease at Santa Chiara, and the promise is belied.\"\"Oh! do not say so,\" replied his wretched parent. \"It is never too late. I know you are in Jonathan Wild's power\n",
      "\n",
      "Decoded Text 2:\n",
      " question, and when I offered my services she disregarded my words.  It was in truth a doleful meal, while the faded Cristine sat like a sphinx staring into vacancy.  I spoke of England and of her friends, of Paris and Versailles, of Avignon where she had spent some years, and of the amenities of Florence, which she considered her home.  But it was like talking to a nunnery door.  I got nothing but \"It is indeed true, sir,\" or \"Do you say so, sir!\"  till my energy began to sink.  Madame perceived my discomfort, and, as she rose, murmured an apology.  \"Pray forgive my distraction, but I am poor company when my father is ill.  I have a foolish mind, easily frightened.  Nay, nay!\" she went on when I again offered help, \"the illness is trifling. It will pass off by to-morrow, or at the latest the next day.  Only I had looked forward to some ease at Santa Chiara, and the promise is belied.\"\"Oh! do not say so,\" replied his wretched parent. \"It is never too late. I know you are in Jonathan Wild's power, for I saw him near you in the church; and if ever the enemy of mankind was permitted to take human form, I beheld him then. Beware of him, my son! Beware of him! You know not what villany he is capable of. Be honest, and you will be happy. You are yet a child; and though you have strayed from the right path, a stronger hand than your own has led you thence. Return, I implore of you, to your master,--to Mr. Wood. Acknowledge your faults. He is all kindness, and will overlook them for your poor father's sake--for mine. Return to him, I say--\"The sky grew grey, and old Pybus pulled down the blind.  His own marriage had been so unromantic an affair that he might have been expected to have had views upon the interplay of the sexes, but he was not a man of views.  When the light died out of the sky you pulled down the blind.  You had to pull down the blind upon most problems.  Views were no more than squinting through a hole in a fence.  You observed human and earthly happenings for three score years and ten, and at\n",
      "\n",
      "Decoded Text 3:\n",
      ", for I saw him near you in the church; and if ever the enemy of mankind was permitted to take human form, I beheld him then. Beware of him, my son! Beware of him! You know not what villany he is capable of. Be honest, and you will be happy. You are yet a child; and though you have strayed from the right path, a stronger hand than your own has led you thence. Return, I implore of you, to your master,--to Mr. Wood. Acknowledge your faults. He is all kindness, and will overlook them for your poor father's sake--for mine. Return to him, I say--\"The sky grew grey, and old Pybus pulled down the blind.  His own marriage had been so unromantic an affair that he might have been expected to have had views upon the interplay of the sexes, but he was not a man of views.  When the light died out of the sky you pulled down the blind.  You had to pull down the blind upon most problems.  Views were no more than squinting through a hole in a fence.  You observed human and earthly happenings for three score years and ten, and at the end of that time you knew everything and you knew nothing, which is to know everything.  You returned-- somewhat--to the mysticism of the child.  And in knowing the things that you felt you knew--you yet did not know how you knew them.\"Not a word will I say, ducky, make yer pore little mind easy about that. Though such a poky little 'en-coop of a place I never was in!\"-- and, while tying her cap-strings, Mrs. Beamish swept the little bedroom and its sloping roof with a withering glance. \"I was 'orrified, girls, simply 'ORRIFIED!\" she related the incident to her daughters. \"An' I up an' told 'er so--just like me, you know. Not room enough to swing a cat in, and 'im sittin' at the 'ead of the table as 'igh an' mighty as a dook! You can thank yer stars, you two, 'e didn't take one o' you instead o' Polly.\" But this was chiefly by way of a consolation-prize for Tilly and Jinny.'I remember that,' Crom answered. 'Yes, that was me too.' This had been\n",
      "\n",
      "Decoded Text 4:\n",
      " the end of that time you knew everything and you knew nothing, which is to know everything.  You returned-- somewhat--to the mysticism of the child.  And in knowing the things that you felt you knew--you yet did not know how you knew them.\"Not a word will I say, ducky, make yer pore little mind easy about that. Though such a poky little 'en-coop of a place I never was in!\"-- and, while tying her cap-strings, Mrs. Beamish swept the little bedroom and its sloping roof with a withering glance. \"I was 'orrified, girls, simply 'ORRIFIED!\" she related the incident to her daughters. \"An' I up an' told 'er so--just like me, you know. Not room enough to swing a cat in, and 'im sittin' at the 'ead of the table as 'igh an' mighty as a dook! You can thank yer stars, you two, 'e didn't take one o' you instead o' Polly.\" But this was chiefly by way of a consolation-prize for Tilly and Jinny.'I remember that,' Crom answered. 'Yes, that was me too.' This had been an affair of an Essay--'A Day in the Holidays,' or something of that nature. C---- had set it but the papers were to be marked by H----. My essay was of variegated but constant vileness, modelled, I fancy, on holiday readings of a journal called The Pink 'Un. Even I had never done anything worse. Normally H----'s markings would have been sent in to C---- without comment. On this occasion, however (I was in Latin form at the time), H---- entered and asked for the floor. C---- yielded it to him with a grin. H---- then told me off before my delighted companions in his best style, which was acid and contumelious. He wound up by a few general remarks about dying as a 'scurrilous journalist.' (I think now that H---- too may have read The Pink 'Un.) The tone, matter, and setting of his discourse were as brutal as they were meant to be--brutal as the necessary wrench on the curb that fetches up a too-flippant colt. C---- added a rider or two after H---- had left.\"Looks hopeful,\" he thought, \"at any rate I'm not on a blind\n",
      "\n",
      "Decoded Text 5:\n",
      " an affair of an Essay--'A Day in the Holidays,' or something of that nature. C---- had set it but the papers were to be marked by H----. My essay was of variegated but constant vileness, modelled, I fancy, on holiday readings of a journal called The Pink 'Un. Even I had never done anything worse. Normally H----'s markings would have been sent in to C---- without comment. On this occasion, however (I was in Latin form at the time), H---- entered and asked for the floor. C---- yielded it to him with a grin. H---- then told me off before my delighted companions in his best style, which was acid and contumelious. He wound up by a few general remarks about dying as a 'scurrilous journalist.' (I think now that H---- too may have read The Pink 'Un.) The tone, matter, and setting of his discourse were as brutal as they were meant to be--brutal as the necessary wrench on the curb that fetches up a too-flippant colt. C---- added a rider or two after H---- had left.\"Looks hopeful,\" he thought, \"at any rate I'm not on a blind trail. I know I should be justified in arresting him straight away now. This servant-master business is as ugly as anyone could wish, but it clinches nothing by itself. It proves no absolute connection with the Clyde House affair. If we jail him at once on suspicion and search his place, we may find nothing there. There are only poor old McIver's notes at best to connect anyone with the murder and he may easily have sent those away. Besides, if I arrest him now, I'm arresting an unknown man and even if he turns out afterwards to be a gentleman very much wanted in another State, most of the credit of his capture will be lost to me then. The other johnnies here will see to that, sure. No, I must wait until I get Larose's letter. I ought to get it in two days at latest. Then I may find there's a big fish in the net and Mark Romilly will be a made man.\" He smiled hopefully to himself, but almost immediately his frown descended again. \"But what if he escapes?\", he went on; \"am I forgetting that? I can't shadow him as I should like and I daren't ask for another single man. If I ask, I must explain\n",
      "\n",
      "Decoded Text 6:\n",
      " trail. I know I should be justified in arresting him straight away now. This servant-master business is as ugly as anyone could wish, but it clinches nothing by itself. It proves no absolute connection with the Clyde House affair. If we jail him at once on suspicion and search his place, we may find nothing there. There are only poor old McIver's notes at best to connect anyone with the murder and he may easily have sent those away. Besides, if I arrest him now, I'm arresting an unknown man and even if he turns out afterwards to be a gentleman very much wanted in another State, most of the credit of his capture will be lost to me then. The other johnnies here will see to that, sure. No, I must wait until I get Larose's letter. I ought to get it in two days at latest. Then I may find there's a big fish in the net and Mark Romilly will be a made man.\" He smiled hopefully to himself, but almost immediately his frown descended again. \"But what if he escapes?\", he went on; \"am I forgetting that? I can't shadow him as I should like and I daren't ask for another single man. If I ask, I must explain everything and then--bang goes all my little plan. I shall be riding again 'to orders' then instead of winning a good race in my own way. No, I must shoulder the risks myself. I've always longed for a chance like this and now I've got it I should be a coward to play for safety and chuck the whole thing all away. Mark Romilly,\" he smiled here to himself, \"I'm afraid you're a gambler, my boy. You've won well enough already but you're going double or quits now, and no one knows better than you do that the luck doesn't hold for ever.\"When Marian, daughter of Nicholas Forsyte, married Edward Tweetyman in 1882, Nicholas was heard to say:  \"That chap'll never make money, she'd better have married his brother.\"  The remark, repeated on Forsyte 'Change, invited the family's dispassionate consideration of two individuals as far apart in character and appearance as is permitted by the laws of consanguinity and partnership.  The two Tweetymans were engineers by profession, and regrettably, it was felt, pump manufacturers in practice, having their business premises in King William Street.  Albert, the elder, was square and\n",
      "\n",
      "Decoded Text 7:\n",
      " everything and then--bang goes all my little plan. I shall be riding again 'to orders' then instead of winning a good race in my own way. No, I must shoulder the risks myself. I've always longed for a chance like this and now I've got it I should be a coward to play for safety and chuck the whole thing all away. Mark Romilly,\" he smiled here to himself, \"I'm afraid you're a gambler, my boy. You've won well enough already but you're going double or quits now, and no one knows better than you do that the luck doesn't hold for ever.\"When Marian, daughter of Nicholas Forsyte, married Edward Tweetyman in 1882, Nicholas was heard to say:  \"That chap'll never make money, she'd better have married his brother.\"  The remark, repeated on Forsyte 'Change, invited the family's dispassionate consideration of two individuals as far apart in character and appearance as is permitted by the laws of consanguinity and partnership.  The two Tweetymans were engineers by profession, and regrettably, it was felt, pump manufacturers in practice, having their business premises in King William Street.  Albert, the elder, was square and stocky in build, red and fleshy in face, with an early smile, and Georgian eyes that reminded one of a bull concerned with Europa.  He it was who took the orders, directed the operations, and made the money.  Edward, the younger, was a little taller and a great deal thinner, with a refined white face and hollowed temple bones; his weak hair waved faintly on his white forehead, his weak and fair moustache drooped like twin wisps of hay above a selfless smile, and his pale blue eyes looked wistfully forth with the saintlike fervour of an inventor.  He invented the pumps, or at least understood how they worked, had a passion for truth, and lived as it were at the bottom of the wells for which they were both designed.  Incidentally he received what his brother didn't.  It was not much.  But being of a loyal and unassuming nature he was not conscious of the discrepancy.  Albert had the force of one born to rake in, Edward the charm of one born to give out.  The family soon perceived how just had been the remark of Nicholas.  But it is not improbable that in this conclusion Marian had been before them.  She had\n",
      "\n",
      "Decoded Text 8:\n",
      " stocky in build, red and fleshy in face, with an early smile, and Georgian eyes that reminded one of a bull concerned with Europa.  He it was who took the orders, directed the operations, and made the money.  Edward, the younger, was a little taller and a great deal thinner, with a refined white face and hollowed temple bones; his weak hair waved faintly on his white forehead, his weak and fair moustache drooped like twin wisps of hay above a selfless smile, and his pale blue eyes looked wistfully forth with the saintlike fervour of an inventor.  He invented the pumps, or at least understood how they worked, had a passion for truth, and lived as it were at the bottom of the wells for which they were both designed.  Incidentally he received what his brother didn't.  It was not much.  But being of a loyal and unassuming nature he was not conscious of the discrepancy.  Albert had the force of one born to rake in, Edward the charm of one born to give out.  The family soon perceived how just had been the remark of Nicholas.  But it is not improbable that in this conclusion Marian had been before them.  She had, for a daughter of Nicholas, a somewhat sweetened disposition, redeemed by a distinctly having tendency; a good-looking, well-built young woman with an instinctive knowledge of how to dress any shop window.  In marrying Edward Tweetyman she had perhaps overlooked the fact that before you can dress a shop window there must be one to dress.  The fellow had none.  His frontage, as it were, was of stained glass, and she could set nothing in it.  With the real shrewdness which she inherited from her father, she had accepted the fact before her honeymoon was over, and had decided to exhibit him unvarnished and ungarnished for what he was worth.  This was extraordinarily little in a monetary sense--say four hundred a year and possibilities. She herself had the three hundred and fifty which Nicholas, with a perfect equity, gave to all his children when he threw them out of the nest in Ladbroke Grove.  But even in the 'eighties, seven hundred and fifty a year was not the income of a Forsyte with a collecting propensity and fashionable proclivities, so that it was not surprising that Marian banked on the 'possibilities.' Difficult indeed to live with Edward Tweetyman without\n",
      "\n",
      "Decoded Text 9:\n",
      ", for a daughter of Nicholas, a somewhat sweetened disposition, redeemed by a distinctly having tendency; a good-looking, well-built young woman with an instinctive knowledge of how to dress any shop window.  In marrying Edward Tweetyman she had perhaps overlooked the fact that before you can dress a shop window there must be one to dress.  The fellow had none.  His frontage, as it were, was of stained glass, and she could set nothing in it.  With the real shrewdness which she inherited from her father, she had accepted the fact before her honeymoon was over, and had decided to exhibit him unvarnished and ungarnished for what he was worth.  This was extraordinarily little in a monetary sense--say four hundred a year and possibilities. She herself had the three hundred and fifty which Nicholas, with a perfect equity, gave to all his children when he threw them out of the nest in Ladbroke Grove.  But even in the 'eighties, seven hundred and fifty a year was not the income of a Forsyte with a collecting propensity and fashionable proclivities, so that it was not surprising that Marian banked on the 'possibilities.' Difficult indeed to live with Edward Tweetyman without noticing how illumined by ideas he was: as from one of those wells to which he was always fitting his pumps, they bubbled from him by day and even by night.  But with her more practical nature Marian soon grasped the fact that Edward's mind never pursued those ideas to the pitch of profit; his mind stopped at the discovery--the invented machine; what would come of it he left to \"my brother.\"  So left, they were not possibilities; Albert, in the words of the prophet, or rather of her cousin George Forsyte, would always 'nobble the lot.'  It was not long before she was saying on Forsyte 'Change that Edward was 'a genius and a saint'; which in the terms of family common- sense equalled 'unpractical and rarefied in his conjugal attentions.'  And every sympathy was felt with Marian's obvious intention to fill the silk purse she had acquired.  It was thought, however, that she might have trouble, bounded on the West by Nicholas, and on the East by Edward's brother.  She herself recognised these limitations, for her first attempt was to break towards the South and ally her Tweetyman with one Charles Podmore of North Street, Westminster.  He\n",
      "\n",
      "Decoded Text 10:\n",
      " noticing how illumined by ideas he was: as from one of those wells to which he was always fitting his pumps, they bubbled from him by day and even by night.  But with her more practical nature Marian soon grasped the fact that Edward's mind never pursued those ideas to the pitch of profit; his mind stopped at the discovery--the invented machine; what would come of it he left to \"my brother.\"  So left, they were not possibilities; Albert, in the words of the prophet, or rather of her cousin George Forsyte, would always 'nobble the lot.'  It was not long before she was saying on Forsyte 'Change that Edward was 'a genius and a saint'; which in the terms of family common- sense equalled 'unpractical and rarefied in his conjugal attentions.'  And every sympathy was felt with Marian's obvious intention to fill the silk purse she had acquired.  It was thought, however, that she might have trouble, bounded on the West by Nicholas, and on the East by Edward's brother.  She herself recognised these limitations, for her first attempt was to break towards the South and ally her Tweetyman with one Charles Podmore of North Street, Westminster.  He it was who, not long before, had eaten the cherries of Rachel and Cicely, on the Lake of Lucerne, to show them that maggots were harmless when taken in any quantity, and had been a friend of the family ever since.  Meeting him at a dance given by her Aunt, Mrs. Roger Forsyte, at Prince's Gate, Marian soon discovered in him a fanatical devotee of ice cream.  He had, in advance of science, expressed the opinion that there was nothing more nourishing and wholesome, a very daring view at a period when what gave sensual pleasure was still almost universally regarded as harmful.  \"Everybody,\" he said, \"ought to eat it; it only wants a really good machine.\"  She had introduced him and his idea to Edward in a corridor, certain that something would come of it.  The acquaintanceship ripened at Hurlingham on tickets furnished by Podmore, a man of independent means, who desired them to see him shooting pigeons; for this was in the full blush of that desirable practice, when a robuster community still connected the expression pigeon-shooting with the expression sport.  The afternoon, however, furnished Marian with a fresh instance of her Edward's impracticability and plunged\n",
      "\n",
      "Decoded Text 11:\n",
      " it was who, not long before, had eaten the cherries of Rachel and Cicely, on the Lake of Lucerne, to show them that maggots were harmless when taken in any quantity, and had been a friend of the family ever since.  Meeting him at a dance given by her Aunt, Mrs. Roger Forsyte, at Prince's Gate, Marian soon discovered in him a fanatical devotee of ice cream.  He had, in advance of science, expressed the opinion that there was nothing more nourishing and wholesome, a very daring view at a period when what gave sensual pleasure was still almost universally regarded as harmful.  \"Everybody,\" he said, \"ought to eat it; it only wants a really good machine.\"  She had introduced him and his idea to Edward in a corridor, certain that something would come of it.  The acquaintanceship ripened at Hurlingham on tickets furnished by Podmore, a man of independent means, who desired them to see him shooting pigeons; for this was in the full blush of that desirable practice, when a robuster community still connected the expression pigeon-shooting with the expression sport.  The afternoon, however, furnished Marian with a fresh instance of her Edward's impracticability and plunged her into a certain gloom. For as Podmore was about to destroy his seventh pigeon running, Tweetyman, who had hitherto been occupied by an idea for helping the seat of his chair to turn itself up on a spring, said loudly: \"Look out, bird!\" and Podmore missed.  Marian took him away almost immediately.  \"How on earth, Edward,\" she said, in the hansom cab, \"you expect ever to get on if you are so absentminded, I can't think.\"  Edward smiled, and looking forth with his pale fervour, said:  \"Pigeon's wings are hinged like this,\" moving a bluish white forefinger in front of Marian's eyes.  \"Quite!\" she answered drily-- perhaps the first use of this expression--\"but are you going to do anything about that ice cream machine?  Charles Podmore is set on it, and he has lots of money.\"  He had pressed her hand.  \"The Romans,\" he said, \"knew how to make ice cream better than we do\"; and then began nodding his head, from which she understood that an idea had come to him.  She had lived on hopefully and abstained from bothering\n",
      "\n",
      "Decoded Text 12:\n",
      " her into a certain gloom. For as Podmore was about to destroy his seventh pigeon running, Tweetyman, who had hitherto been occupied by an idea for helping the seat of his chair to turn itself up on a spring, said loudly: \"Look out, bird!\" and Podmore missed.  Marian took him away almost immediately.  \"How on earth, Edward,\" she said, in the hansom cab, \"you expect ever to get on if you are so absentminded, I can't think.\"  Edward smiled, and looking forth with his pale fervour, said:  \"Pigeon's wings are hinged like this,\" moving a bluish white forefinger in front of Marian's eyes.  \"Quite!\" she answered drily-- perhaps the first use of this expression--\"but are you going to do anything about that ice cream machine?  Charles Podmore is set on it, and he has lots of money.\"  He had pressed her hand.  \"The Romans,\" he said, \"knew how to make ice cream better than we do\"; and then began nodding his head, from which she understood that an idea had come to him.  She had lived on hopefully and abstained from bothering him with questions, for she had a horror of fussing, till one day, going almost mechanically through his pockets, she came on a beautiful little drawing of an ice cream machine in a catalogue connected with the pumps of A. & E. Tweetyman, and realised that it had been finished and had passed into the keeping of his brother.  She was really angry.  The incident raised so acutely the whole question of his brother in relation to his possibilities.  Something must be done!  And she did it!  She invited his brother to dinner, and on the principle of Greek cut Armenian, exerted all her wiles to get her father to meet him.  It was seldom indeed that Nicholas would budge from his fireside, his papers, and his evening journal, except for those public functions at which he invariably made the best speech of the evening.  But, though he had no declared preferences among his children, Marian was secretly his favourite; and he came.  The evening was one long battle for the soul, or rather the possibilities, of Tweetyman, and he remained completely unconscious of the fact.  The whole difficulty with the man, indeed, arose from the impossibility of making him realise his own sorrows. \n",
      "\n",
      "Decoded Text 13:\n",
      " him with questions, for she had a horror of fussing, till one day, going almost mechanically through his pockets, she came on a beautiful little drawing of an ice cream machine in a catalogue connected with the pumps of A. & E. Tweetyman, and realised that it had been finished and had passed into the keeping of his brother.  She was really angry.  The incident raised so acutely the whole question of his brother in relation to his possibilities.  Something must be done!  And she did it!  She invited his brother to dinner, and on the principle of Greek cut Armenian, exerted all her wiles to get her father to meet him.  It was seldom indeed that Nicholas would budge from his fireside, his papers, and his evening journal, except for those public functions at which he invariably made the best speech of the evening.  But, though he had no declared preferences among his children, Marian was secretly his favourite; and he came.  The evening was one long battle for the soul, or rather the possibilities, of Tweetyman, and he remained completely unconscious of the fact.  The whole difficulty with the man, indeed, arose from the impossibility of making him realise his own sorrows.  Here he was, with his real gifts, wholly at the beck and call of that despoiler his brother, and incapable of resenting it.  Here, if the battle went against his brother, he would be--as Marian realised before the night was out--wholly at the beck and call of Nicholas's Companies, and incapable of profiting by it.  For a side of her father's character which she had never yet realised, was revealed to Marian that evening:  If he secured and employed Edward, it would be as a servant to his Companies and not as a son-in-law--no nepotism for HIM!  In other words Edward the inventor would jump out of one sorrow into another just as deep, and do it without a sigh.  Marian had seldom been more disillusioned.  The net result of the affair was that Nicholas left the house with an added respect for Albert, and less respect for Edward.  When Marian got her husband to bed, she did not blow out the candle, but lay on her side and looked at him.  He was lying on his back, with his temple bones extremely hollowed, and a slight smile under the wisps of his moustache. Something Nicholas had said in connection with the watering\n",
      "\n",
      "Decoded Text 14:\n",
      " Here he was, with his real gifts, wholly at the beck and call of that despoiler his brother, and incapable of resenting it.  Here, if the battle went against his brother, he would be--as Marian realised before the night was out--wholly at the beck and call of Nicholas's Companies, and incapable of profiting by it.  For a side of her father's character which she had never yet realised, was revealed to Marian that evening:  If he secured and employed Edward, it would be as a servant to his Companies and not as a son-in-law--no nepotism for HIM!  In other words Edward the inventor would jump out of one sorrow into another just as deep, and do it without a sigh.  Marian had seldom been more disillusioned.  The net result of the affair was that Nicholas left the house with an added respect for Albert, and less respect for Edward.  When Marian got her husband to bed, she did not blow out the candle, but lay on her side and looked at him.  He was lying on his back, with his temple bones extremely hollowed, and a slight smile under the wisps of his moustache. Something Nicholas had said in connection with the watering of engines on his railway had started his inventivity, and he was already halfway towards an improvement.  In that dim light he looked almost too saint-like, above his flannel nightgown.  Marian was moved; there was charm in the man in spite of the sorrows of which he was so unconscious, and after all she had married him for love.  A long time she looked at him with a faint greed in her eyes, and a faint flush on her cheeks.The early childhood of great men is handed down to posterity in the shape of a few anecdotes chosen to show the first promise of their genius. Of such stock stories there are several revealing the phenomenal musical endowment of little Gustav. One tells how at the age of two he could sing hundreds of folk-songs and already exhibited a preference for music of a military nature. More credible, perhaps, is the claim of another that he could at four play correctly on an accordian all the march tunes used in the neighboring barracks. Certainly the Mahler symphonies, with their great wealth of rhythmic material in strikingly martial settings, are eloquent corroboration of the story of the extraordinary little boy who surrendered his soul to the brazen spell of signalling trumpets, and was\n",
      "\n",
      "Decoded Text 15:\n",
      " of engines on his railway had started his inventivity, and he was already halfway towards an improvement.  In that dim light he looked almost too saint-like, above his flannel nightgown.  Marian was moved; there was charm in the man in spite of the sorrows of which he was so unconscious, and after all she had married him for love.  A long time she looked at him with a faint greed in her eyes, and a faint flush on her cheeks.The early childhood of great men is handed down to posterity in the shape of a few anecdotes chosen to show the first promise of their genius. Of such stock stories there are several revealing the phenomenal musical endowment of little Gustav. One tells how at the age of two he could sing hundreds of folk-songs and already exhibited a preference for music of a military nature. More credible, perhaps, is the claim of another that he could at four play correctly on an accordian all the march tunes used in the neighboring barracks. Certainly the Mahler symphonies, with their great wealth of rhythmic material in strikingly martial settings, are eloquent corroboration of the story of the extraordinary little boy who surrendered his soul to the brazen spell of signalling trumpets, and was compelled by some mysterious power to haunt the vicinity of the barracks lest he miss the strange voice of beauty lurking deep beneath this music's stern, drab medley.\"Don't be in such a hurry to reject my compliments,\" replied old Tabaret, with a horrible grimace. \"I say that you have conducted this investigation very well; but it could have been done much better, very much better. You have a talent for your work, that's evident; but you lack experience; you become elated by a trifling advantage, or discouraged by a mere nothing; you fail, and yet persist in holding fast to a fixed idea, as a moth flutters about a candle. Then, you are young. But never mind that, it's a fault you will outgrow only too soon. And now, to speak frankly, I must tell you that you have made a great many blunders.\"Another visitor of a very different type, but highly endowed with the sense of humour common to most of our group, was the popular playwright, Clyde Fitch. Though I had not escaped the novelist's usual temptation to write for the stage I had never taken my dramatic impulses very seriously, and after the appearance of my second novel, \"The House of Mirth,\" I\n",
      "\n",
      "Decoded Text 16:\n",
      " compelled by some mysterious power to haunt the vicinity of the barracks lest he miss the strange voice of beauty lurking deep beneath this music's stern, drab medley.\"Don't be in such a hurry to reject my compliments,\" replied old Tabaret, with a horrible grimace. \"I say that you have conducted this investigation very well; but it could have been done much better, very much better. You have a talent for your work, that's evident; but you lack experience; you become elated by a trifling advantage, or discouraged by a mere nothing; you fail, and yet persist in holding fast to a fixed idea, as a moth flutters about a candle. Then, you are young. But never mind that, it's a fault you will outgrow only too soon. And now, to speak frankly, I must tell you that you have made a great many blunders.\"Another visitor of a very different type, but highly endowed with the sense of humour common to most of our group, was the popular playwright, Clyde Fitch. Though I had not escaped the novelist's usual temptation to write for the stage I had never taken my dramatic impulses very seriously, and after the appearance of my second novel, \"The House of Mirth,\" I thought no more of the theatre--indeed, as nothing in the way of drama between the examples of Racine's \"Phedre\" and \"The Private Secretary\" has ever given me much pleasure, I went to the play as seldom as possible.Tomorrow promised savour in the part he would be accorded in the affairs of the young people. It was satisfactory to have discovered the cause of Peter's kink and to be in a position to disperse it happily. Bernice's picture show would be a real lark, something novel and not commonly available. It was great luck that old Ernest Gaylord had sent her up for the summer. He must go to Sydney just as soon as Gyang Gyang was closed and have a day or two with old Ernest. It would be amusing to see his enthusiasm. He would have more faith than ever in the Labosseer powers to set people on their feet and see them through.\"Oh, that's what you thought, hey?\" he said; and then, after a pause, he continued: \"I fancy you must have lost sight of some of the facts when you thought that. Let me just remind you how the case stands. To begin with, you start your career with a little playful forg\n",
      "\n",
      "Decoded Text 17:\n",
      " thought no more of the theatre--indeed, as nothing in the way of drama between the examples of Racine's \"Phedre\" and \"The Private Secretary\" has ever given me much pleasure, I went to the play as seldom as possible.Tomorrow promised savour in the part he would be accorded in the affairs of the young people. It was satisfactory to have discovered the cause of Peter's kink and to be in a position to disperse it happily. Bernice's picture show would be a real lark, something novel and not commonly available. It was great luck that old Ernest Gaylord had sent her up for the summer. He must go to Sydney just as soon as Gyang Gyang was closed and have a day or two with old Ernest. It would be amusing to see his enthusiasm. He would have more faith than ever in the Labosseer powers to set people on their feet and see them through.\"Oh, that's what you thought, hey?\" he said; and then, after a pause, he continued: \"I fancy you must have lost sight of some of the facts when you thought that. Let me just remind you how the case stands. To begin with, you start your career with a little playful forgery and embezzlement; you blue the proceeds, and you are mug enough to be found out. Then I come in. I compound the affair with old Marston for a couple of thousand, and practically clean myself out of every penny I possess, and he consents to regard your temporary absence in the light of a holiday.So he cogitated while the hours slipped by. It was nearly five o'clock before Steger was able to return, and then only for a little while. He had been arranging for Cowperwood's appearance on the following Thursday, Friday, and Monday in his several court proceedings. When he was gone, however, and the night fell and Cowperwood had to trim his little, shabby oil-lamp and to drink the strong tea and eat the rough, poor bread made of bran and white flour, which was shoved to him through the small aperture in the door by the trencher trusty, who was accompanied by the overseer to see that it was done properly, he really felt very badly. And after that the center wooden door of his cell was presently closed and locked by a trusty who slammed it rudely and said no word. Nine o'clock would be sounded somewhere by a great bell, he understood, when\n",
      "\n",
      "Decoded Text 18:\n",
      "ery and embezzlement; you blue the proceeds, and you are mug enough to be found out. Then I come in. I compound the affair with old Marston for a couple of thousand, and practically clean myself out of every penny I possess, and he consents to regard your temporary absence in the light of a holiday.So he cogitated while the hours slipped by. It was nearly five o'clock before Steger was able to return, and then only for a little while. He had been arranging for Cowperwood's appearance on the following Thursday, Friday, and Monday in his several court proceedings. When he was gone, however, and the night fell and Cowperwood had to trim his little, shabby oil-lamp and to drink the strong tea and eat the rough, poor bread made of bran and white flour, which was shoved to him through the small aperture in the door by the trencher trusty, who was accompanied by the overseer to see that it was done properly, he really felt very badly. And after that the center wooden door of his cell was presently closed and locked by a trusty who slammed it rudely and said no word. Nine o'clock would be sounded somewhere by a great bell, he understood, when his smoky oil-lamp would have to be put out promptly and he would have to undress and go to bed. There were punishments, no doubt, for infractions of these rules--reduced rations, the strait-jacket, perhaps stripes--he scarcely knew what. He felt disconsolate, grim, weary. He had put up such a long, unsatisfactory fight. After washing his heavy stone cup and tin plate at the hydrant, he took off the sickening uniform and shoes and even the drawers of the scratching underwear, and stretched himself wearily on the bed. The place was not any too warm, and he tried to make himself comfortable between the blankets--but it was of little use. His soul was cold.On the side of the Naval War Staff Tirpitz fought, with a doggedness which can hardly be described, for the employment of submarines for the inauguration of intensified U-boat warfare. On the other side, the Chancellor, Herr von Bethmann Hollweg, was ranged with General Headquarters in opposition to this plan. Bethmann Hollweg had the ear of the Kaiser, which gave him the opportunity, of which he made full use, of preventing the Naval War Staff from having its way. Bethmann Holl\n",
      "\n",
      "Decoded Text 19:\n",
      " his smoky oil-lamp would have to be put out promptly and he would have to undress and go to bed. There were punishments, no doubt, for infractions of these rules--reduced rations, the strait-jacket, perhaps stripes--he scarcely knew what. He felt disconsolate, grim, weary. He had put up such a long, unsatisfactory fight. After washing his heavy stone cup and tin plate at the hydrant, he took off the sickening uniform and shoes and even the drawers of the scratching underwear, and stretched himself wearily on the bed. The place was not any too warm, and he tried to make himself comfortable between the blankets--but it was of little use. His soul was cold.On the side of the Naval War Staff Tirpitz fought, with a doggedness which can hardly be described, for the employment of submarines for the inauguration of intensified U-boat warfare. On the other side, the Chancellor, Herr von Bethmann Hollweg, was ranged with General Headquarters in opposition to this plan. Bethmann Hollweg had the ear of the Kaiser, which gave him the opportunity, of which he made full use, of preventing the Naval War Staff from having its way. Bethmann Hollweg took the standpoint that the \"confounded Navy,\" as he called it, was out to ruin his policy towards England.Everybody cleared up after that, and said something brilliant, or tried to, which did just as well, for laughter is ready when hearts are light.  There was no display of gifts, for they were already in the little house, nor was there an elaborate breakfast, but a plentiful lunch of cake and fruit, dressed with flowers. Mr. Laurence and Aunt March shrugged and smiled at one another when water, lemonade, and coffee were found to be to only sorts of nectar which the three Hebes carried round.  No one said anything, till Laurie, who insisted on serving the bride, appeared before her, with a loaded salver in his hand and a puzzled expression on his face.A most Shocking Spectacle was brought to the Hospital this Evening: Two poor Creatures, Convicts, had been sent a few Miles up the Harbour, to cut Rushes, for thatching the Huts, and this Afternoon a Boat was sent to bring them down again, when, they found them lying among some Bushes, and murdered in a most horrid Manner by the Natives, Three Points of Spears were taken out\n",
      "\n",
      "Decoded Text 20:\n",
      "weg took the standpoint that the \"confounded Navy,\" as he called it, was out to ruin his policy towards England.Everybody cleared up after that, and said something brilliant, or tried to, which did just as well, for laughter is ready when hearts are light.  There was no display of gifts, for they were already in the little house, nor was there an elaborate breakfast, but a plentiful lunch of cake and fruit, dressed with flowers. Mr. Laurence and Aunt March shrugged and smiled at one another when water, lemonade, and coffee were found to be to only sorts of nectar which the three Hebes carried round.  No one said anything, till Laurie, who insisted on serving the bride, appeared before her, with a loaded salver in his hand and a puzzled expression on his face.A most Shocking Spectacle was brought to the Hospital this Evening: Two poor Creatures, Convicts, had been sent a few Miles up the Harbour, to cut Rushes, for thatching the Huts, and this Afternoon a Boat was sent to bring them down again, when, they found them lying among some Bushes, and murdered in a most horrid Manner by the Natives, Three Points of Spears were taken out of one Man, two of which had Transfixed Him in the Back the Points sticking some Inches out of his Breast a large Piece of his Skull, including the Eye seemed to have been cut out with an Axe. In the other Man, no wound was discovered from Spears, but he appeared to have been struck with some heavy broad Weapon over his Face, as that Part was black and bloody--The Natives had not stripped them of their Cloaths, nor had they taken their Tents away, but none of their Tools could be found. The Governor, means to take a Party of Marines to morrow Morning, and go to the Place where this Murder was committed, to endeavour to find out the Cause of these Hostilities: For it is his Opinion, with many others, that the Natives are not the Aggressors.He started shakily enough, but after playing the first three holes with a marvellous amount of luck, settled down to his game, and played as well as he had ever done in his life. It was a bright, fresh morning, with blue sky overhead, and the spring of the turf under his feet drove him almost mad with delight. He had clean forgotten the old house and all his troubles by the time he had ho\n",
      "\n",
      "Decoded Text 21:\n",
      " of one Man, two of which had Transfixed Him in the Back the Points sticking some Inches out of his Breast a large Piece of his Skull, including the Eye seemed to have been cut out with an Axe. In the other Man, no wound was discovered from Spears, but he appeared to have been struck with some heavy broad Weapon over his Face, as that Part was black and bloody--The Natives had not stripped them of their Cloaths, nor had they taken their Tents away, but none of their Tools could be found. The Governor, means to take a Party of Marines to morrow Morning, and go to the Place where this Murder was committed, to endeavour to find out the Cause of these Hostilities: For it is his Opinion, with many others, that the Natives are not the Aggressors.He started shakily enough, but after playing the first three holes with a marvellous amount of luck, settled down to his game, and played as well as he had ever done in his life. It was a bright, fresh morning, with blue sky overhead, and the spring of the turf under his feet drove him almost mad with delight. He had clean forgotten the old house and all his troubles by the time he had holed out on the eighteenth green, and when his partner added up the card he realized that he had been round in seventy-three. This, with his plus handicap of three, represented a net score of seventy-six, which, considering that the course was on the slow side, probably represented the best effort of the morning round. And so, when Quint went into the Club House to lunch he found himself the centre of a good deal of attention, for his indeed was the best score. Next behind him, strangely enough, came Enderby with a net seventy-seven, but, with a handicap of five, this was no phenomenal effort. Before Quint sat down to his cold meat and pint of beer he knew that he and his chief enemy led the field by three clear strokes. One or two men came up and congratulated him, but Enderby sat sullenly apart. He was not the kind of sportsman to appreciate the success of a fellow-golfer, especially as he had set his heart on taking the Gold Cup away with him. Quint smiled to himself as he noticed the scowl on the features of his deadliest enemy. It would be no fault of his if Enderby secured the great treasure, and he made up his mind if possible to\n",
      "\n",
      "Decoded Text 22:\n",
      "led out on the eighteenth green, and when his partner added up the card he realized that he had been round in seventy-three. This, with his plus handicap of three, represented a net score of seventy-six, which, considering that the course was on the slow side, probably represented the best effort of the morning round. And so, when Quint went into the Club House to lunch he found himself the centre of a good deal of attention, for his indeed was the best score. Next behind him, strangely enough, came Enderby with a net seventy-seven, but, with a handicap of five, this was no phenomenal effort. Before Quint sat down to his cold meat and pint of beer he knew that he and his chief enemy led the field by three clear strokes. One or two men came up and congratulated him, but Enderby sat sullenly apart. He was not the kind of sportsman to appreciate the success of a fellow-golfer, especially as he had set his heart on taking the Gold Cup away with him. Quint smiled to himself as he noticed the scowl on the features of his deadliest enemy. It would be no fault of his if Enderby secured the great treasure, and he made up his mind if possible to do greater things next round.'The police magistrate was out along them ridges with a company of mounted police, looking for three men who'd murdered their master up near the Chain Ponds, and then took to the bush, and came over on this side the river. It was jest before Christmas. One of the troopers got a sunstroke in Maitland the day before the police magistrate started; and knowing the bushrangers were desperate fellows, and that he couldn't well spare a man, he took me with him. I was riding this same grey horse at the time, to quieten him a bit; for he was rather skittish. We'd been riding from the head of the Wollombi, along the ridges down towards the river; for the police magistrate got wind that the bushrangers were hiding out there somewhere, when by some unlucky mistake I lost the rest of the party. I wandered about, till the grey knocked up, and I had to let him go. I got off the mountains down into a little flat, where I saw fires, and seeing a lot of blacks' camps, and never before having seen any blacks, only the tame ones about Maitland, I wasn't afraid, but jest walked right\n",
      "\n",
      "Decoded Text 23:\n",
      " do greater things next round.'The police magistrate was out along them ridges with a company of mounted police, looking for three men who'd murdered their master up near the Chain Ponds, and then took to the bush, and came over on this side the river. It was jest before Christmas. One of the troopers got a sunstroke in Maitland the day before the police magistrate started; and knowing the bushrangers were desperate fellows, and that he couldn't well spare a man, he took me with him. I was riding this same grey horse at the time, to quieten him a bit; for he was rather skittish. We'd been riding from the head of the Wollombi, along the ridges down towards the river; for the police magistrate got wind that the bushrangers were hiding out there somewhere, when by some unlucky mistake I lost the rest of the party. I wandered about, till the grey knocked up, and I had to let him go. I got off the mountains down into a little flat, where I saw fires, and seeing a lot of blacks' camps, and never before having seen any blacks, only the tame ones about Maitland, I wasn't afraid, but jest walked right down among 'em. They were regular Myalls! hadn't seen a live white man before, most of 'em; and the whole boxendice of 'em came swarming round me like locasts, and jabbering like mad. I spoke quite friendly to 'em: but they only jabbered the louder; and on looking close I saw 'em making ready their spears. I had hardly time to think what to do, when I saw a tall wiery nigger taking aim at me. I had only jest time to duck, when the spear came wizzing past, and stuck into the tree behind me. I seen it was getting rather too warm, so I made a dash for it, and off I went like a hunted kangaroo with the whole tribe of niggers howling at my heels. I had no show against 'em, for they ran like racehorses, and caught up with me in a few hundred yards. A knock on the head with a waddy soon laid me on the grass, and the savages was jest holding a palaver over me whether they'd roast me alive, or flay me, when fortinately up gallops the troopers, and saved my life!'I had rightly interpreted\n",
      "\n",
      "Decoded Text 24:\n",
      " down among 'em. They were regular Myalls! hadn't seen a live white man before, most of 'em; and the whole boxendice of 'em came swarming round me like locasts, and jabbering like mad. I spoke quite friendly to 'em: but they only jabbered the louder; and on looking close I saw 'em making ready their spears. I had hardly time to think what to do, when I saw a tall wiery nigger taking aim at me. I had only jest time to duck, when the spear came wizzing past, and stuck into the tree behind me. I seen it was getting rather too warm, so I made a dash for it, and off I went like a hunted kangaroo with the whole tribe of niggers howling at my heels. I had no show against 'em, for they ran like racehorses, and caught up with me in a few hundred yards. A knock on the head with a waddy soon laid me on the grass, and the savages was jest holding a palaver over me whether they'd roast me alive, or flay me, when fortinately up gallops the troopers, and saved my life!'I had rightly interpreted the first signs of a new growth and strength in her mind, unconsciously expressing themselves in the notice she had taken of the occupations which filled her sister's life and mine.  Marian (when I told her what had passed) saw, as I saw, that she was longing to assume her own little position of importance, to raise herself in her own estimation and in ours-- and, from that day, we tenderly helped the new ambition which gave promise of the hopeful, happier future, that might now not be far off.  Her drawings, as she finished them, or tried to finish them, were placed in my hands.  Marian took them from me and hid them carefully, and I set aside a little weekly tribute from my earnings, to be offered to her as the price paid by strangers for the poor, faint, valueless sketches, of which I was the only purchaser.  It was hard sometimes to maintain our innocent deception, when she proudly brought out her purse to contribute her share towards the expenses, and wondered with serious interest, whether I or she had earned the most that week.  I have all those hidden drawings in my possession still--they are my treasures beyond price--the dear remembrances that I love to keep alive--the friends\n",
      "\n",
      "Decoded Text 25:\n",
      " the first signs of a new growth and strength in her mind, unconsciously expressing themselves in the notice she had taken of the occupations which filled her sister's life and mine.  Marian (when I told her what had passed) saw, as I saw, that she was longing to assume her own little position of importance, to raise herself in her own estimation and in ours-- and, from that day, we tenderly helped the new ambition which gave promise of the hopeful, happier future, that might now not be far off.  Her drawings, as she finished them, or tried to finish them, were placed in my hands.  Marian took them from me and hid them carefully, and I set aside a little weekly tribute from my earnings, to be offered to her as the price paid by strangers for the poor, faint, valueless sketches, of which I was the only purchaser.  It was hard sometimes to maintain our innocent deception, when she proudly brought out her purse to contribute her share towards the expenses, and wondered with serious interest, whether I or she had earned the most that week.  I have all those hidden drawings in my possession still--they are my treasures beyond price--the dear remembrances that I love to keep alive--the friends in past adversity that my heart will never part from, my tenderness never forget.\"Perhaps he had reasons for keeping it to himself,\" the old woman said, with a hoarse laugh; \"for my master is not much liked by the southern princes. His name is Bahader, and he is ruler over Aden, under the great King Becar, who is monarch over all Aden and Diarbekir. His kingdom extends further than any eye can reach, even from the top of the highest mountain; and he has soldiers, and eunuchs, and slaves, such as no man can number them; and his riches are inexhaustible. The caliph of Bagdad is but a boy in power compared with the great Becar.\"The instant I had uttered these words, I felt what it was that I had done. There was a magnetical sympathy between me and my patron, so that their effect was not sooner produced upon him, than my own mind reproached me with the inhumanity of the allusion. Our confusion was mutual. The blood forsook at once the transparent complexion of Mr. Falkland, and then rushed back again with rapidity and fierceness. I dared not utter a word, lest I should commit a\n",
      "\n",
      "Decoded Text 26:\n",
      " in past adversity that my heart will never part from, my tenderness never forget.\"Perhaps he had reasons for keeping it to himself,\" the old woman said, with a hoarse laugh; \"for my master is not much liked by the southern princes. His name is Bahader, and he is ruler over Aden, under the great King Becar, who is monarch over all Aden and Diarbekir. His kingdom extends further than any eye can reach, even from the top of the highest mountain; and he has soldiers, and eunuchs, and slaves, such as no man can number them; and his riches are inexhaustible. The caliph of Bagdad is but a boy in power compared with the great Becar.\"The instant I had uttered these words, I felt what it was that I had done. There was a magnetical sympathy between me and my patron, so that their effect was not sooner produced upon him, than my own mind reproached me with the inhumanity of the allusion. Our confusion was mutual. The blood forsook at once the transparent complexion of Mr. Falkland, and then rushed back again with rapidity and fierceness. I dared not utter a word, lest I should commit a new error, worse than that into which I had just fallen. After a short, but severe, struggle to continue the conversation, Mr. Falkland began with trepidation, but afterwards became calmer:--Cipriano sat motionless as a statue.  But from his breast came that dark surging passion of tenderness the Indians are capable of. Perhaps it would pass, leaving him indifferent and fatalistic again.  But at any rate for the moment he sat in a dark, fiery cloud of passionate male tenderness.  He looked at her soft, wet white hands over her face, and at the one big emerald on her finger, in a sort of wonder.  The wonder, the mystery, the magic that used to flood over him as a boy and a youth, when he kneeled before the babyish figure of the Santa Maria de la Soledad, flooded him again.  He was in the presence of the goddess, white-handed, mysterious, gleaming with a moon-like power and the intense potency of grief.The English, or rather Welsh character of the scenery, is kept up by the numerous cottages and small white houses; some buried at the bottom of the deepest valleys, and others mounted on the crests of\n",
      "\n",
      "Decoded Text 27:\n",
      " new error, worse than that into which I had just fallen. After a short, but severe, struggle to continue the conversation, Mr. Falkland began with trepidation, but afterwards became calmer:--Cipriano sat motionless as a statue.  But from his breast came that dark surging passion of tenderness the Indians are capable of. Perhaps it would pass, leaving him indifferent and fatalistic again.  But at any rate for the moment he sat in a dark, fiery cloud of passionate male tenderness.  He looked at her soft, wet white hands over her face, and at the one big emerald on her finger, in a sort of wonder.  The wonder, the mystery, the magic that used to flood over him as a boy and a youth, when he kneeled before the babyish figure of the Santa Maria de la Soledad, flooded him again.  He was in the presence of the goddess, white-handed, mysterious, gleaming with a moon-like power and the intense potency of grief.The English, or rather Welsh character of the scenery, is kept up by the numerous cottages and small white houses; some buried at the bottom of the deepest valleys, and others mounted on the crests of the lofty hills. Some of the views are striking, for instance that from near Sir W. Doveton's house, where the bold peak called Lot is seen over a dark wood of firs, the whole being backed by the red water-worn mountains of the southern coast. On viewing the island from an eminence, the first circumstance which strikes one is the number of the roads and forts: the labour bestowed on the public works, if one forgets its character as a prison, seems out of all proportion to its extent or value. There is so little level or useful land that it seems surprising how so many people, about 5000, can subsist here. The lower orders, or the emancipated slaves, are, I believe, extremely poor: they complain of the want of work. From the reduction in the number of public servants, owing to the island having been given up by the East India Company, and the consequent emigration of many of the richer people, the poverty probably will increase. The chief food of the working class is rice with a little salt meat; as neither of these articles are the products of the island, but must be purchased with money, the low wages tell heavily on the poor people. Now that the people are\n",
      "\n",
      "Decoded Text 28:\n",
      " the lofty hills. Some of the views are striking, for instance that from near Sir W. Doveton's house, where the bold peak called Lot is seen over a dark wood of firs, the whole being backed by the red water-worn mountains of the southern coast. On viewing the island from an eminence, the first circumstance which strikes one is the number of the roads and forts: the labour bestowed on the public works, if one forgets its character as a prison, seems out of all proportion to its extent or value. There is so little level or useful land that it seems surprising how so many people, about 5000, can subsist here. The lower orders, or the emancipated slaves, are, I believe, extremely poor: they complain of the want of work. From the reduction in the number of public servants, owing to the island having been given up by the East India Company, and the consequent emigration of many of the richer people, the poverty probably will increase. The chief food of the working class is rice with a little salt meat; as neither of these articles are the products of the island, but must be purchased with money, the low wages tell heavily on the poor people. Now that the people are blessed with freedom, a right which I believe they value fully, it seems probable that their numbers will quickly increase: if so, what is to become of the little state of St. Helena?On the other hand, there were old nurses and trusted maids who had come to be regarded as individuals and loved as true friends, irrespective of class, by those they served. And the name of 'friend', when applied to them in words, gave them a deeper satisfaction than any material benefit. A retired lady's maid, whom Laura knew later, spoke to her many times with much feeling of what she evidently regarded as the crown of her experiences. She had been for many years maid to a titled lady moving in high society, had dressed her for royal courts, undressed and put her to bed in illness, travelled with her, indulged her innocent vanities, and knew, for she could not help knowing, being so near her person, her most intimate griefs. At last 'Her Ladyship', grown old, lay upon her deathbed and her maid, who was helping to nurse her, happened to be alone in the room with her, her relatives, none of whom were very near ones, being downstairs at dinner. '\"Raise me up,\" she said,\n",
      "\n",
      "Decoded Text 29:\n",
      " blessed with freedom, a right which I believe they value fully, it seems probable that their numbers will quickly increase: if so, what is to become of the little state of St. Helena?On the other hand, there were old nurses and trusted maids who had come to be regarded as individuals and loved as true friends, irrespective of class, by those they served. And the name of 'friend', when applied to them in words, gave them a deeper satisfaction than any material benefit. A retired lady's maid, whom Laura knew later, spoke to her many times with much feeling of what she evidently regarded as the crown of her experiences. She had been for many years maid to a titled lady moving in high society, had dressed her for royal courts, undressed and put her to bed in illness, travelled with her, indulged her innocent vanities, and knew, for she could not help knowing, being so near her person, her most intimate griefs. At last 'Her Ladyship', grown old, lay upon her deathbed and her maid, who was helping to nurse her, happened to be alone in the room with her, her relatives, none of whom were very near ones, being downstairs at dinner. '\"Raise me up,\" she said, and I raised her up, and when she put her arms round my neck to help lift her, she kissed me and said, \"_My friend_,\"' and Miss Wilson, twenty years after, considered that kiss and those two words a more ample reward for her years of devotion than the nice cottage and annuity she received under the will of the poor lady.\"There couldn't be a better example,\" said my guide, as we passed out of the room, \"of what we call the forcing system in the treatment of mendacity. That patient came to us voluntarily about two months ago. The form of his disease is a common one. Perfectly truthful in all other respects, he cannot resist the temptation to claim personal acquaintance and even intimacy with distinguished individuals. His friends laughed at him so much for this weakness that when he heard of the establishment of the infirmary he came here like a sensible man, and put himself under our care. He is doing splendidly. When he found that his reminiscences of Beaconsfield and Bismarck and Victor Hugo created no sensation here, but were, on the contrary, at once matched and capped by still more remarkable experiences narrated by other inmates, he was at first a little staggered. But the habit\n",
      "\n",
      "Decoded Text 30:\n",
      " and I raised her up, and when she put her arms round my neck to help lift her, she kissed me and said, \"_My friend_,\"' and Miss Wilson, twenty years after, considered that kiss and those two words a more ample reward for her years of devotion than the nice cottage and annuity she received under the will of the poor lady.\"There couldn't be a better example,\" said my guide, as we passed out of the room, \"of what we call the forcing system in the treatment of mendacity. That patient came to us voluntarily about two months ago. The form of his disease is a common one. Perfectly truthful in all other respects, he cannot resist the temptation to claim personal acquaintance and even intimacy with distinguished individuals. His friends laughed at him so much for this weakness that when he heard of the establishment of the infirmary he came here like a sensible man, and put himself under our care. He is doing splendidly. When he found that his reminiscences of Beaconsfield and Bismarck and Victor Hugo created no sensation here, but were, on the contrary, at once matched and capped by still more remarkable experiences narrated by other inmates, he was at first a little staggered. But the habit is so strong, and the peculiar vanity that craves admiration on this score is so exacting, that he began to extend his acquaintance, gradually and cautiously, back into the past. Soon we had him giving reminiscences of Talleyrand, of Thomas Jefferson, and of Lord Cornwallis. Observe the psychologic effect of our system. The ordinary checks on the performances of such a liar being removed, and, no doubt, suspicion, nor even wonder being expressed at any of his anecdotes, he has gone back through Voltaire and William the Silent to Charlemagne, and so on. There happens to be in the institution another patient with precisely the same trouble. They are, therefore, in active competition, and each serves to force the other back more rapidly. Not long ago I heard our friend in here describing one of Heliogabalus' banquets, which he had attended as an honored guest. Why, I was there, too!' cried the other liar. 'It was the night they gave us the boar's head stuffed with goose giblets and that delicious dry Opimian muscadine.'\"He passed one hand over his eyes and shook his head to clear it. He was impatient with himself, ashamed.  He had everything a\n",
      "\n",
      "Decoded Text 31:\n",
      " is so strong, and the peculiar vanity that craves admiration on this score is so exacting, that he began to extend his acquaintance, gradually and cautiously, back into the past. Soon we had him giving reminiscences of Talleyrand, of Thomas Jefferson, and of Lord Cornwallis. Observe the psychologic effect of our system. The ordinary checks on the performances of such a liar being removed, and, no doubt, suspicion, nor even wonder being expressed at any of his anecdotes, he has gone back through Voltaire and William the Silent to Charlemagne, and so on. There happens to be in the institution another patient with precisely the same trouble. They are, therefore, in active competition, and each serves to force the other back more rapidly. Not long ago I heard our friend in here describing one of Heliogabalus' banquets, which he had attended as an honored guest. Why, I was there, too!' cried the other liar. 'It was the night they gave us the boar's head stuffed with goose giblets and that delicious dry Opimian muscadine.'\"He passed one hand over his eyes and shook his head to clear it. He was impatient with himself, ashamed.  He had everything a man could ask for.  He wondered in horror if his adoration of Nellie was not love at all, but only the panic of a drowning man clinging to his rescuer.  For she was rescue, truly.  She was the bridge between his isolation and the warmth and safety of life itself. But his life was good.  What was it then he wanted so and needed? He had lost a father to death and a mother to a mania, yet it was not a loss, for he had never possessed them.  He had lost his brother.  He knew this for a positive pain.  And he had not possessed him, either.  He asked himself if he wanted Benjamin here with him, working the land against his will.  He could not ask this.  Did a man's love consist only of the elements that brought him comfort?  And why one human being rather than another, or was the love a thing nameless and faceless, given out of a lonely need, as a child clutched a china doll or a rag wrapped round a husk of straw, murmuring endearments?  Should he have gone with Benjamin, did he want only to be with him wherever he should go?  Or was\n",
      "\n",
      "Decoded Text 32:\n",
      " man could ask for.  He wondered in horror if his adoration of Nellie was not love at all, but only the panic of a drowning man clinging to his rescuer.  For she was rescue, truly.  She was the bridge between his isolation and the warmth and safety of life itself. But his life was good.  What was it then he wanted so and needed? He had lost a father to death and a mother to a mania, yet it was not a loss, for he had never possessed them.  He had lost his brother.  He knew this for a positive pain.  And he had not possessed him, either.  He asked himself if he wanted Benjamin here with him, working the land against his will.  He could not ask this.  Did a man's love consist only of the elements that brought him comfort?  And why one human being rather than another, or was the love a thing nameless and faceless, given out of a lonely need, as a child clutched a china doll or a rag wrapped round a husk of straw, murmuring endearments?  Should he have gone with Benjamin, did he want only to be with him wherever he should go?  Or was it his destiny to be always unfilled and lonely?  He felt himself coming closer to a truth, and as his heart beat faster, the truth evaded him.The mating season is not at the Creek quite as markedly a thing of spring as farther north.  My wild Mallard ducks breed all winter and calves and pigs may be born at any time.  Yet there is a resurgence of the life sap, no matter how subtle, for the creatures and birds as well as for the trees.  The red-birds sing all through the winter and I have awakened to delirious duets on a morning when icicles hung from the water-tower and the oranges were frozen solid.  The red-birds' song has to do with their mating, for it is the males who proclaim in season the delights of love and the glory of the world.  Yet the first of the year's two hatchings of young arrives in our spring.When the earthquake arrived in Oakland, the commanding officer of the Congregational Sabbath School was reading these words, by way of text: \"And the earth shook and trembled!\" In an instant the earthquake seized the text and preached a powerful sermon on it. I do not know whether the commanding officer resumed the\n",
      "\n"
     ]
    }
   ],
   "source": [
    "import tiktoken\n",
    "\n",
    "# Initialize the tokenizer\n",
    "tokenizer = tiktoken.get_encoding(\"cl100k_base\")\n",
    "\n",
    "# Get a sample batch\n",
    "sample = next(iter(val_loader))\n",
    "\n",
    "# Convert the batch (tensor) to a list of sequences\n",
    "batch_tokens = sample[0].tolist()  # Each sublist is a sequence\n",
    "\n",
    "# Decode each sequence\n",
    "decoded_texts = [tokenizer.decode(tokens) for tokens in batch_tokens]\n",
    "\n",
    "# Print the decoded texts\n",
    "for i, text in enumerate(decoded_texts):\n",
    "    print(f\"Decoded Text {i+1}:\")\n",
    "    print(text)\n",
    "    print()\n"
   ]
  },
  {
   "cell_type": "code",
   "execution_count": null,
   "metadata": {},
   "outputs": [],
   "source": []
  }
 ],
 "metadata": {
  "kernelspec": {
   "display_name": ".venv",
   "language": "python",
   "name": "python3"
  },
  "language_info": {
   "codemirror_mode": {
    "name": "ipython",
    "version": 3
   },
   "file_extension": ".py",
   "mimetype": "text/x-python",
   "name": "python",
   "nbconvert_exporter": "python",
   "pygments_lexer": "ipython3",
   "version": "3.12.3"
  }
 },
 "nbformat": 4,
 "nbformat_minor": 2
}
