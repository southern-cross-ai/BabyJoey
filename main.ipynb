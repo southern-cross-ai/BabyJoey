{
 "cells": [
  {
   "cell_type": "code",
   "execution_count": 6,
   "metadata": {},
   "outputs": [
    {
     "name": "stdout",
     "output_type": "stream",
     "text": [
      "Loading raw datasets from disk at ./processed_data_Tweets_Australian_Cities...\n",
      "Loading tokenized datasets from disk...\n"
     ]
    }
   ],
   "source": [
    "from src.data_loader import GetJoeyData\n",
    "from src.model import BabyJoeyModel\n",
    "from src.training import ModelTrainer\n",
    "from dataclasses import dataclass\n",
    "import torch\n",
    "import torch.nn.functional as F\n",
    "from src.config import ModelConfig, TrainingConfig, DatasetConfig\n",
    "\n",
    "dataset_instance = GetJoeyData(DatasetConfig())\n",
    "training_dataset, validation_dataset = dataset_instance.create_dataloaders()"
   ]
  },
  {
   "cell_type": "code",
   "execution_count": 7,
   "metadata": {},
   "outputs": [],
   "source": [
    "sample = next(iter(training_dataset))"
   ]
  },
  {
   "cell_type": "code",
   "execution_count": 8,
   "metadata": {},
   "outputs": [
    {
     "data": {
      "text/plain": [
       "{'input_ids': tensor([[  361,   345,  4398,  ..., 50256, 50256, 50256],\n",
       "         [   32,  6891, 13516,  ..., 50256, 50256, 50256]])}"
      ]
     },
     "execution_count": 8,
     "metadata": {},
     "output_type": "execute_result"
    }
   ],
   "source": [
    "sample\n"
   ]
  },
  {
   "cell_type": "code",
   "execution_count": null,
   "metadata": {},
   "outputs": [],
   "source": []
  }
 ],
 "metadata": {
  "kernelspec": {
   "display_name": ".venv",
   "language": "python",
   "name": "python3"
  },
  "language_info": {
   "codemirror_mode": {
    "name": "ipython",
    "version": 3
   },
   "file_extension": ".py",
   "mimetype": "text/x-python",
   "name": "python",
   "nbconvert_exporter": "python",
   "pygments_lexer": "ipython3",
   "version": "3.12.3"
  }
 },
 "nbformat": 4,
 "nbformat_minor": 2
}
